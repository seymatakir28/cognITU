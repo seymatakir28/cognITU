{
 "cells": [
  {
   "cell_type": "code",
   "execution_count": null,
   "metadata": {
    "vscode": {
     "languageId": "plaintext"
    }
   },
   "outputs": [],
   "source": [
    "import os \n",
    "import pandas as pd\n",
    "import numpy as np "
   ]
  },
  {
   "cell_type": "code",
   "execution_count": null,
   "metadata": {
    "vscode": {
     "languageId": "plaintext"
    }
   },
   "outputs": [],
   "source": [
    "main_path='lexical_decision_experiment'\n",
    "all_W_or_nW_array=[]\n",
    "all_SC_or_M_array=[]\n",
    "all_key_resp_2_rt_array=[]\n",
    "all_meaning_value_array=[]\n",
    "\n",
    "for file_name in sorted(os.listdir(main_path)):\n",
    "\n",
    "    if file_name=='.DS_Store':\n",
    "        continue\n",
    "\n",
    "    df = pd.read_csv(os.path.join(main_path,file_name))\n",
    "    # Replace missing values\n",
    "    df['meaning_value'].fillna(False, inplace=True)\n",
    "    df['key_resp_2.rt'] = pd.to_numeric(df['key_resp_2.rt'], errors='coerce')\n",
    "\n",
    "    # Her bir katılımcı için ortalama ve standart sapmayı hesapla\n",
    "    #mean_rt = df['key_resp_2.rt'].mean()\n",
    "    #std_rt = df['key_resp_2.rt'].std()\n",
    "    #eşik değer ver\n",
    "    #2.5 standart sapma kuralını uygula (aykırı değerleri çıkar)\n",
    "    #upper_limit = mean_rt + 2.5 * std_rt\n",
    "    #lower_limit = mean_rt - 2.5 * std_rt\n",
    "    #df = df[(df['key_resp_2.rt'] <= upper_limit) & (df['key_resp_2.rt'] >= lower_limit)]\n",
    "\n",
    "\n",
    "    # Compute the averages\n",
    "    results = (\n",
    "        df.dropna(subset=['key_resp_2.rt'])  # Exclude rows with missing RT\n",
    "        .groupby(['W_or_nW', 'SC_or_M'])\n",
    "        .agg(\n",
    "            mean_rt=('key_resp_2.rt', 'mean'),\n",
    "            accuracy=('meaning_value', lambda x: x.eq(True).mean())\n",
    "        )\n",
    "        .reset_index()\n",
    "    )\n",
    "\n",
    "    # Ayrı arrayler oluştur\n",
    "    all_W_or_nW_array.extend(results['W_or_nW'].tolist())\n",
    "    all_SC_or_M_array.extend(results['SC_or_M'].tolist())\n",
    "    all_key_resp_2_rt_array.extend(results['mean_rt'].tolist())\n",
    "    all_meaning_value_array.extend(results['accuracy'].tolist())\n",
    "    \n",
    "\n"
   ]
  },
  {
   "cell_type": "code",
   "execution_count": null,
   "metadata": {
    "vscode": {
     "languageId": "plaintext"
    }
   },
   "outputs": [],
   "source": [
    "!pip install --upgrade pingouin"
   ]
  },
  {
   "cell_type": "code",
   "execution_count": null,
   "metadata": {
    "vscode": {
     "languageId": "plaintext"
    }
   },
   "outputs": [],
   "source": [
    "import pingouin as pg\n",
    "data = pd.DataFrame({\n",
    "    'Score': all_key_resp_2_rt_array,\n",
    "    'Condition1': all_SC_or_M_array,\n",
    "    'Condition2': all_W_or_nW_array\n",
    "})\n",
    "# İki yönlü ANOVA\n",
    "anova = pg.anova(dv='Score', between=['Condition1', 'Condition2'], data=data, detailed=True)\n",
    "print(anova)"
   ]
  },
  {
   "cell_type": "code",
   "execution_count": null,
   "metadata": {
    "vscode": {
     "languageId": "plaintext"
    }
   },
   "outputs": [],
   "source": [
    "import seaborn as sns\n",
    "import matplotlib.pyplot as plt\n",
    "\n",
    "# Box plot için görselleştirme\n",
    "plt.figure(figsize=(10, 6))\n",
    "sns.boxplot(x='Condition1', y='Score', hue='Condition2', data=data, palette='Set2')\n",
    "plt.title('Box Plot of Scores by all_SC_or_M_array and all_W_or_nW_array')\n",
    "plt.xlabel('all_SC_or_M_array')\n",
    "plt.ylabel('all_key_resp_2_rt_array')\n",
    "plt.legend(title='all_W_or_nW_array')\n",
    "plt.tight_layout()\n",
    "plt.show()\n"
   ]
  },
  {
   "cell_type": "code",
   "execution_count": null,
   "metadata": {
    "vscode": {
     "languageId": "plaintext"
    }
   },
   "outputs": [],
   "source": [
    "import pingouin as pg\n",
    "data = pd.DataFrame({\n",
    "    'Score':  all_meaning_value_array,\n",
    "    'Condition1': all_SC_or_M_array,\n",
    "    'Condition2': all_W_or_nW_array\n",
    "})\n",
    "# İki yönlü ANOVA\n",
    "anova = pg.anova(dv='Score', between=['Condition1', 'Condition2'], data=data, detailed=True)\n",
    "print(anova)"
   ]
  },
  {
   "cell_type": "code",
   "execution_count": null,
   "metadata": {
    "vscode": {
     "languageId": "plaintext"
    }
   },
   "outputs": [],
   "source": [
    "import seaborn as sns\n",
    "import matplotlib.pyplot as plt\n",
    "\n",
    "# Box plot için görselleştirme\n",
    "plt.figure(figsize=(10, 6))\n",
    "sns.boxplot(x='Condition1', y='Score', hue='Condition2', data=data, palette='Set2')\n",
    "plt.title('Box Plot of Scores by all_SC_or_M_array and all_W_or_nW_array')\n",
    "plt.xlabel('all_SC_or_M_array')\n",
    "plt.ylabel('all_meaning_value_array')\n",
    "plt.legend(title='all_W_or_nW_array')\n",
    "plt.tight_layout()\n",
    "plt.show()\n"
   ]
  }
 ],
 "metadata": {
  "language_info": {
   "name": "python"
  }
 },
 "nbformat": 4,
 "nbformat_minor": 2
}
